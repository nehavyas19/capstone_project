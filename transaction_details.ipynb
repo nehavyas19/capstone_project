{
 "cells": [
  {
   "cell_type": "code",
   "execution_count": 2,
   "metadata": {},
   "outputs": [],
   "source": [
    "#Connect to mysql database\n",
    "\n",
    "import mysql.connector\n",
    "from mysql.connector import errorcode\n",
    "from config import db\n",
    "\n",
    "#Get DB user/pwd\n",
    "db_user = db.get('DATABASE_USER')\n",
    "db_pass = db.get('DATABASE_PASSWORD')\n",
    "db_name = 'creditcard_capstone'\n",
    "\n",
    "try:\n",
    "  mysql_connect = mysql.connector.connect(host='localhost', user=db_user, password=db_pass,database=db_name)\n",
    "except mysql.connector.Error as err:\n",
    "  if err.errno == errorcode.ER_ACCESS_DENIED_ERROR:\n",
    "    print(\"Something is wrong with your user name or password\")\n",
    "  elif err.errno == errorcode.ER_BAD_DB_ERROR:\n",
    "    print(\"Database does not exist\")\n",
    "  else:\n",
    "    print(err)\n",
    "else:\n",
    "  mysql_connect.close()"
   ]
  }
 ],
 "metadata": {
  "kernelspec": {
   "display_name": "Python 3",
   "language": "python",
   "name": "python3"
  },
  "language_info": {
   "codemirror_mode": {
    "name": "ipython",
    "version": 3
   },
   "file_extension": ".py",
   "mimetype": "text/x-python",
   "name": "python",
   "nbconvert_exporter": "python",
   "pygments_lexer": "ipython3",
   "version": "3.10.7"
  },
  "orig_nbformat": 4
 },
 "nbformat": 4,
 "nbformat_minor": 2
}
